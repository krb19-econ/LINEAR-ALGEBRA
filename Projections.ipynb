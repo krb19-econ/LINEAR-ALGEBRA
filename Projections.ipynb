{
 "cells": [
  {
   "cell_type": "code",
   "execution_count": 1,
   "id": "984ee202-2ac1-4bf5-a0cb-78e60402be54",
   "metadata": {},
   "outputs": [
    {
     "name": "stdout",
     "output_type": "stream",
     "text": [
      "3.8.8 (default, Apr 13 2021, 15:08:03) [MSC v.1916 64 bit (AMD64)]\n"
     ]
    }
   ],
   "source": [
    "import sys\n",
    "print(sys.version)"
   ]
  },
  {
   "cell_type": "code",
   "execution_count": 2,
   "id": "af274bca-3b81-4254-9a5a-d8549710b882",
   "metadata": {},
   "outputs": [],
   "source": [
    "import numpy as np\n",
    "import matplotlib.pyplot as plt\n",
    "import scipy.linalg as la\n",
    "%matplotlib inline"
   ]
  },
  {
   "cell_type": "markdown",
   "id": "17937e1a-9d83-4d6f-aba8-4d904ed6d863",
   "metadata": {},
   "source": [
    "VECTOR PROJECTION"
   ]
  },
  {
   "cell_type": "code",
   "execution_count": 16,
   "id": "1533260a-71d6-4657-bedf-33efd4bd25d6",
   "metadata": {},
   "outputs": [],
   "source": [
    "def vec_proj(v,u):\n",
    "    \"\"\"\n",
    "    Provides projection of vector v on u\n",
    "    \"\"\"\n",
    "    p = ((u@v)/la.norm(u)**2)*u\n",
    "    return p"
   ]
  },
  {
   "cell_type": "code",
   "execution_count": 18,
   "id": "e2b089e1-c704-4c8a-bae1-8d5ac3cfe547",
   "metadata": {},
   "outputs": [
    {
     "data": {
      "text/plain": [
       "array([2., 0.])"
      ]
     },
     "execution_count": 18,
     "metadata": {},
     "output_type": "execute_result"
    }
   ],
   "source": [
    "v = np.array([2,3])\n",
    "u = np.array([1,0])\n",
    "vec_proj(v,u)"
   ]
  },
  {
   "cell_type": "code",
   "execution_count": null,
   "id": "fa2039e9-a155-4587-a0e5-d0992a278191",
   "metadata": {},
   "outputs": [],
   "source": []
  },
  {
   "cell_type": "markdown",
   "id": "7799ee52-f9df-4776-b72c-af670e01e72b",
   "metadata": {},
   "source": [
    "ORTHOGONAL PROJECTION INTO SUBSPACE"
   ]
  },
  {
   "cell_type": "code",
   "execution_count": 51,
   "id": "82819bd7-41c2-4a0f-a1ff-3b9261489c37",
   "metadata": {},
   "outputs": [],
   "source": [
    "def sub_proj_mat(A):\n",
    "    \"\"\"\n",
    "    Function to form projection matrix \n",
    "    \"\"\"\n",
    "    P = A@la.inv((A.T)@A)@A.T\n",
    "    return P"
   ]
  },
  {
   "cell_type": "code",
   "execution_count": 52,
   "id": "80199fd8-2f39-491f-9637-f93fa9576b7d",
   "metadata": {},
   "outputs": [
    {
     "data": {
      "text/plain": [
       "array([[1.00000000e+00, 1.77635684e-15],\n",
       "       [5.32907052e-15, 1.00000000e+00]])"
      ]
     },
     "execution_count": 52,
     "metadata": {},
     "output_type": "execute_result"
    }
   ],
   "source": [
    "A = np.array([[1,2],[3,4]])\n",
    "sub_proj_mat(A)"
   ]
  },
  {
   "cell_type": "code",
   "execution_count": null,
   "id": "783d8c6a-a332-4d01-94a1-5b1d0b4f8089",
   "metadata": {},
   "outputs": [],
   "source": []
  }
 ],
 "metadata": {
  "kernelspec": {
   "display_name": "Python 3",
   "language": "python",
   "name": "python3"
  },
  "language_info": {
   "codemirror_mode": {
    "name": "ipython",
    "version": 3
   },
   "file_extension": ".py",
   "mimetype": "text/x-python",
   "name": "python",
   "nbconvert_exporter": "python",
   "pygments_lexer": "ipython3",
   "version": "3.8.8"
  }
 },
 "nbformat": 4,
 "nbformat_minor": 5
}
